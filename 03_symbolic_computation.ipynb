{
 "cells": [
  {
   "cell_type": "code",
   "execution_count": 1,
   "metadata": {},
   "outputs": [],
   "source": [
    "import sympy as sym\n",
    "sym.init_printing()"
   ]
  },
  {
   "cell_type": "markdown",
   "metadata": {},
   "source": [
    "## Differential"
   ]
  },
  {
   "cell_type": "code",
   "execution_count": 2,
   "metadata": {},
   "outputs": [],
   "source": [
    "x = sym.symbols('x')"
   ]
  },
  {
   "cell_type": "code",
   "execution_count": 3,
   "metadata": {},
   "outputs": [
    {
     "data": {
      "image/png": "[encoded data removed]",
      "text/latex": [
       "$$x^{2}$$"
      ],
      "text/plain": [
       " 2\n",
       "x "
      ]
     },
     "execution_count": 3,
     "metadata": {},
     "output_type": "execute_result"
    }
   ],
   "source": [
    "x**2"
   ]
  },
  {
   "cell_type": "code",
   "execution_count": 4,
   "metadata": {},
   "outputs": [
    {
     "data": {
      "image/png": "[encoded data removed]",
      "text/latex": [
       "$$2 x$$"
      ],
      "text/plain": [
       "2⋅x"
      ]
     },
     "execution_count": 4,
     "metadata": {},
     "output_type": "execute_result"
    }
   ],
   "source": [
    "sym.diff(x**2)"
   ]
  },
  {
   "cell_type": "code",
   "execution_count": 5,
   "metadata": {},
   "outputs": [
    {
     "data": {
      "image/png": "[encoded data removed]",
      "text/latex": [
       "$$\\frac{1}{x}$$"
      ],
      "text/plain": [
       "1\n",
       "─\n",
       "x"
      ]
     },
     "execution_count": 5,
     "metadata": {},
     "output_type": "execute_result"
    }
   ],
   "source": [
    "1/x"
   ]
  },
  {
   "cell_type": "code",
   "execution_count": 6,
   "metadata": {},
   "outputs": [
    {
     "data": {
      "image/png": "[encoded data removed]",
      "text/latex": [
       "$$- \\frac{1}{x^{2}}$$"
      ],
      "text/plain": [
       "-1 \n",
       "───\n",
       "  2\n",
       " x "
      ]
     },
     "execution_count": 6,
     "metadata": {},
     "output_type": "execute_result"
    }
   ],
   "source": [
    "sym.diff(1/x)"
   ]
  },
  {
   "cell_type": "code",
   "execution_count": 7,
   "metadata": {},
   "outputs": [
    {
     "data": {
      "image/png": "[encoded data removed]",
      "text/latex": [
       "$$\\frac{1}{x^{2}}$$"
      ],
      "text/plain": [
       "1 \n",
       "──\n",
       " 2\n",
       "x "
      ]
     },
     "execution_count": 7,
     "metadata": {},
     "output_type": "execute_result"
    }
   ],
   "source": [
    "(1 / x)**2"
   ]
  },
  {
   "cell_type": "code",
   "execution_count": 8,
   "metadata": {},
   "outputs": [
    {
     "data": {
      "image/png": "[encoded data removed]",
      "text/latex": [
       "$$- \\frac{2}{x^{3}}$$"
      ],
      "text/plain": [
       "-2 \n",
       "───\n",
       "  3\n",
       " x "
      ]
     },
     "execution_count": 8,
     "metadata": {},
     "output_type": "execute_result"
    }
   ],
   "source": [
    "sym.diff((1 / x)**2)"
   ]
  },
  {
   "cell_type": "markdown",
   "metadata": {},
   "source": [
    "## Pareto Distribution\n",
    "\n",
    "The Pareto distribution has become known and referred to as the Pareto principle, or \"80-20 rule\". This rule states that, for example, 80% of the wealth of a society is held by 20% of its population.\n",
    "\n",
    "### CDF\n",
    "\n",
    "$ F_X(x) = \\begin{cases}\n",
    "1-\\left(\\frac{x_\\mathrm{m}}{x}\\right)^\\alpha & x \\ge x_\\mathrm{m}, \\\\\n",
    "0 & x < x_\\mathrm{m}.\n",
    "\\end{cases} $\n",
    "\n",
    "### PDF\n",
    "\n",
    "$ f_X(x)= \\begin{cases} \\frac{\\alpha x_\\mathrm{m}^\\alpha}{x^{\\alpha+1}} & x \\ge x_\\mathrm{m}, \\\\ 0 & x < x_\\mathrm{m}. \\end{cases} $\n",
    "\n",
    "https://en.wikipedia.org/wiki/Pareto_distribution#Properties"
   ]
  },
  {
   "cell_type": "code",
   "execution_count": 9,
   "metadata": {},
   "outputs": [
    {
     "data": {
      "image/png": "[encoded data removed]",
      "text/latex": [
       "$$- \\left(\\frac{x_{m}}{x}\\right)^{\\alpha} + 1$$"
      ],
      "text/plain": [
       "      α    \n",
       "  ⎛xₘ⎞     \n",
       "- ⎜──⎟  + 1\n",
       "  ⎝x ⎠     "
      ]
     },
     "metadata": {},
     "output_type": "display_data"
    },
    {
     "data": {
      "image/png": "[encoded data removed]",
      "text/latex": [
       "$$\\alpha x^{- \\alpha - 1} x_{m}^{\\alpha}$$"
      ],
      "text/plain": [
       "   -α - 1   α\n",
       "α⋅x      ⋅xₘ "
      ]
     },
     "metadata": {},
     "output_type": "display_data"
    }
   ],
   "source": [
    "x, x_m, a = sym.symbols('x x_m alpha', positive=True)\n",
    "\n",
    "F = 1 - (x_m / x)**a\n",
    "f = (a*x_m**a) / (x**(a+1))\n",
    "\n",
    "display(F, f)"
   ]
  },
  {
   "cell_type": "code",
   "execution_count": 10,
   "metadata": {},
   "outputs": [
    {
     "data": {
      "image/png": "[encoded data removed]",
      "text/latex": [
       "$$\\frac{\\alpha \\left(\\frac{x_{m}}{x}\\right)^{\\alpha}}{x}$$"
      ],
      "text/plain": [
       "      α\n",
       "  ⎛xₘ⎞ \n",
       "α⋅⎜──⎟ \n",
       "  ⎝x ⎠ \n",
       "───────\n",
       "   x   "
      ]
     },
     "metadata": {},
     "output_type": "display_data"
    },
    {
     "data": {
      "image/png": "[encoded data removed]",
      "text/latex": [
       "$$\\alpha x^{- \\alpha - 1} x_{m}^{\\alpha}$$"
      ],
      "text/plain": [
       "   -α - 1   α\n",
       "α⋅x      ⋅xₘ "
      ]
     },
     "metadata": {},
     "output_type": "display_data"
    }
   ],
   "source": [
    "F_partial_x = sym.diff(F, x)\n",
    "\n",
    "display(F_partial_x, f)"
   ]
  },
  {
   "cell_type": "code",
   "execution_count": 11,
   "metadata": {},
   "outputs": [
    {
     "data": {
      "image/png": "[encoded data removed]",
      "text/latex": [
       "$$\\alpha x^{- \\alpha - 1} x_{m}^{\\alpha}$$"
      ],
      "text/plain": [
       "   -α - 1   α\n",
       "α⋅x      ⋅xₘ "
      ]
     },
     "metadata": {},
     "output_type": "display_data"
    },
    {
     "data": {
      "image/png": "[encoded data removed]",
      "text/latex": [
       "$$\\alpha x^{- \\alpha - 1} x_{m}^{\\alpha}$$"
      ],
      "text/plain": [
       "   -α - 1   α\n",
       "α⋅x      ⋅xₘ "
      ]
     },
     "metadata": {},
     "output_type": "display_data"
    }
   ],
   "source": [
    "display(\n",
    "    F_partial_x.simplify(),\n",
    "    f.simplify()\n",
    ")"
   ]
  },
  {
   "cell_type": "markdown",
   "metadata": {},
   "source": [
    "Try SymPy online: https://live.sympy.org/ ."
   ]
  }
 ],
 "metadata": {
  "kernelspec": {
   "display_name": "Python 3 (practicing-python-3)",
   "language": "python",
   "name": "python3-practicing-python-3"
  },
  "language_info": {
   "codemirror_mode": {
    "name": "ipython",
    "version": 3
   },
   "file_extension": ".py",
   "mimetype": "text/x-python",
   "name": "python",
   "nbconvert_exporter": "python",
   "pygments_lexer": "ipython3",
   "version": "3.6.5"
  },
  "toc": {
   "nav_menu": {},
   "number_sections": false,
   "sideBar": true,
   "skip_h1_title": true,
   "toc_cell": false,
   "toc_position": {},
   "toc_section_display": "block",
   "toc_window_display": false
  }
 },
 "nbformat": 4,
 "nbformat_minor": 1
}
